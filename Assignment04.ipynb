{
  "cells": [
    {
      "cell_type": "code",
      "execution_count": null,
      "metadata": {
        "id": "mYlMPubPOM_i"
      },
      "outputs": [],
      "source": [
        "import pandas as pd"
      ]
    },
    {
      "cell_type": "code",
      "execution_count": null,
      "metadata": {
        "id": "H0oFR96bOM_j"
      },
      "outputs": [],
      "source": [
        "#01\n",
        "myDF = pd.read_csv(\"test.csv\")"
      ]
    },
    {
      "cell_type": "code",
      "execution_count": null,
      "metadata": {
        "id": "wHSnQslSOM_k",
        "outputId": "5718ccf1-f7a3-475f-bd0a-e74fc5a1c2b0"
      },
      "outputs": [
        {
          "data": {
            "text/html": [
              "<div>\n",
              "<style scoped>\n",
              "    .dataframe tbody tr th:only-of-type {\n",
              "        vertical-align: middle;\n",
              "    }\n",
              "\n",
              "    .dataframe tbody tr th {\n",
              "        vertical-align: top;\n",
              "    }\n",
              "\n",
              "    .dataframe thead th {\n",
              "        text-align: right;\n",
              "    }\n",
              "</style>\n",
              "<table border=\"1\" class=\"dataframe\">\n",
              "  <thead>\n",
              "    <tr style=\"text-align: right;\">\n",
              "      <th></th>\n",
              "      <th>ID</th>\n",
              "      <th>Range</th>\n",
              "      <th>Value</th>\n",
              "      <th>Type</th>\n",
              "      <th>Zip Code</th>\n",
              "      <th>Model</th>\n",
              "      <th>Cost</th>\n",
              "      <th>Continent</th>\n",
              "    </tr>\n",
              "  </thead>\n",
              "  <tbody>\n",
              "    <tr>\n",
              "      <th>0</th>\n",
              "      <td>10</td>\n",
              "      <td>192</td>\n",
              "      <td>50</td>\n",
              "      <td>F</td>\n",
              "      <td>NXEYEM</td>\n",
              "      <td>EX85</td>\n",
              "      <td>[56$]</td>\n",
              "      <td>Asia</td>\n",
              "    </tr>\n",
              "    <tr>\n",
              "      <th>1</th>\n",
              "      <td>20</td>\n",
              "      <td>299</td>\n",
              "      <td>21</td>\n",
              "      <td>M</td>\n",
              "      <td>VNFKZD</td>\n",
              "      <td>CT41</td>\n",
              "      <td>[18$]</td>\n",
              "      <td>Asia</td>\n",
              "    </tr>\n",
              "    <tr>\n",
              "      <th>2</th>\n",
              "      <td>30</td>\n",
              "      <td>378</td>\n",
              "      <td>28</td>\n",
              "      <td>X</td>\n",
              "      <td>IMGMFY</td>\n",
              "      <td>VN81</td>\n",
              "      <td>[90$]</td>\n",
              "      <td>North America</td>\n",
              "    </tr>\n",
              "  </tbody>\n",
              "</table>\n",
              "</div>"
            ],
            "text/plain": [
              "   ID  Range  Value Type Zip Code Model   Cost      Continent\n",
              "0  10    192     50    F   NXEYEM  EX85  [56$]           Asia\n",
              "1  20    299     21    M   VNFKZD  CT41  [18$]           Asia\n",
              "2  30    378     28    X   IMGMFY  VN81  [90$]  North America"
            ]
          },
          "execution_count": 311,
          "metadata": {},
          "output_type": "execute_result"
        }
      ],
      "source": [
        "#02\n",
        "myDF.head(3)"
      ]
    },
    {
      "cell_type": "code",
      "execution_count": null,
      "metadata": {
        "id": "Tr625u0UOM_k",
        "outputId": "9203e921-83e3-45cc-ee52-513ac0dbbb7f"
      },
      "outputs": [
        {
          "data": {
            "text/html": [
              "<div>\n",
              "<style scoped>\n",
              "    .dataframe tbody tr th:only-of-type {\n",
              "        vertical-align: middle;\n",
              "    }\n",
              "\n",
              "    .dataframe tbody tr th {\n",
              "        vertical-align: top;\n",
              "    }\n",
              "\n",
              "    .dataframe thead th {\n",
              "        text-align: right;\n",
              "    }\n",
              "</style>\n",
              "<table border=\"1\" class=\"dataframe\">\n",
              "  <thead>\n",
              "    <tr style=\"text-align: right;\">\n",
              "      <th></th>\n",
              "      <th>ID</th>\n",
              "      <th>Range</th>\n",
              "      <th>Value</th>\n",
              "      <th>Type</th>\n",
              "      <th>Zip Code</th>\n",
              "      <th>Model</th>\n",
              "      <th>Cost</th>\n",
              "      <th>Continent</th>\n",
              "    </tr>\n",
              "  </thead>\n",
              "  <tbody>\n",
              "    <tr>\n",
              "      <th>0</th>\n",
              "      <td>10</td>\n",
              "      <td>192</td>\n",
              "      <td>50</td>\n",
              "      <td>F</td>\n",
              "      <td>NXEYEM</td>\n",
              "      <td>EX85</td>\n",
              "      <td>[56$]</td>\n",
              "      <td>Asia</td>\n",
              "    </tr>\n",
              "    <tr>\n",
              "      <th>1</th>\n",
              "      <td>20</td>\n",
              "      <td>299</td>\n",
              "      <td>21</td>\n",
              "      <td>M</td>\n",
              "      <td>VNFKZD</td>\n",
              "      <td>CT41</td>\n",
              "      <td>[18$]</td>\n",
              "      <td>Asia</td>\n",
              "    </tr>\n",
              "    <tr>\n",
              "      <th>2</th>\n",
              "      <td>30</td>\n",
              "      <td>378</td>\n",
              "      <td>28</td>\n",
              "      <td>X</td>\n",
              "      <td>IMGMFY</td>\n",
              "      <td>VN81</td>\n",
              "      <td>[90$]</td>\n",
              "      <td>North America</td>\n",
              "    </tr>\n",
              "    <tr>\n",
              "      <th>3</th>\n",
              "      <td>40</td>\n",
              "      <td>156</td>\n",
              "      <td>44</td>\n",
              "      <td>Q</td>\n",
              "      <td>RHRHJY</td>\n",
              "      <td>IR14</td>\n",
              "      <td>[89$]</td>\n",
              "      <td>Asia</td>\n",
              "    </tr>\n",
              "    <tr>\n",
              "      <th>4</th>\n",
              "      <td>50</td>\n",
              "      <td>468</td>\n",
              "      <td>33</td>\n",
              "      <td>J</td>\n",
              "      <td>HPQCMC</td>\n",
              "      <td>QX90</td>\n",
              "      <td>[95$]</td>\n",
              "      <td>Africa</td>\n",
              "    </tr>\n",
              "    <tr>\n",
              "      <th>...</th>\n",
              "      <td>...</td>\n",
              "      <td>...</td>\n",
              "      <td>...</td>\n",
              "      <td>...</td>\n",
              "      <td>...</td>\n",
              "      <td>...</td>\n",
              "      <td>...</td>\n",
              "      <td>...</td>\n",
              "    </tr>\n",
              "    <tr>\n",
              "      <th>945</th>\n",
              "      <td>9460</td>\n",
              "      <td>136</td>\n",
              "      <td>12</td>\n",
              "      <td>C</td>\n",
              "      <td>HGVBPV</td>\n",
              "      <td>NG88</td>\n",
              "      <td>[51$]</td>\n",
              "      <td>South America</td>\n",
              "    </tr>\n",
              "    <tr>\n",
              "      <th>946</th>\n",
              "      <td>9470</td>\n",
              "      <td>316</td>\n",
              "      <td>46</td>\n",
              "      <td>L</td>\n",
              "      <td>SHBAUD</td>\n",
              "      <td>IE12</td>\n",
              "      <td>[33$]</td>\n",
              "      <td>North America</td>\n",
              "    </tr>\n",
              "    <tr>\n",
              "      <th>947</th>\n",
              "      <td>9480</td>\n",
              "      <td>461</td>\n",
              "      <td>46</td>\n",
              "      <td>K</td>\n",
              "      <td>PUZUVO</td>\n",
              "      <td>HB82</td>\n",
              "      <td>[12$]</td>\n",
              "      <td>Europe</td>\n",
              "    </tr>\n",
              "    <tr>\n",
              "      <th>948</th>\n",
              "      <td>9490</td>\n",
              "      <td>185</td>\n",
              "      <td>13</td>\n",
              "      <td>N</td>\n",
              "      <td>UMESZO</td>\n",
              "      <td>WJ90</td>\n",
              "      <td>[39$]</td>\n",
              "      <td>North America</td>\n",
              "    </tr>\n",
              "    <tr>\n",
              "      <th>949</th>\n",
              "      <td>9500</td>\n",
              "      <td>137</td>\n",
              "      <td>10</td>\n",
              "      <td>W</td>\n",
              "      <td>JOHHVL</td>\n",
              "      <td>QE45</td>\n",
              "      <td>[10$]</td>\n",
              "      <td>South America</td>\n",
              "    </tr>\n",
              "  </tbody>\n",
              "</table>\n",
              "<p>950 rows × 8 columns</p>\n",
              "</div>"
            ],
            "text/plain": [
              "       ID  Range  Value Type Zip Code Model   Cost      Continent\n",
              "0      10    192     50    F   NXEYEM  EX85  [56$]           Asia\n",
              "1      20    299     21    M   VNFKZD  CT41  [18$]           Asia\n",
              "2      30    378     28    X   IMGMFY  VN81  [90$]  North America\n",
              "3      40    156     44    Q   RHRHJY  IR14  [89$]           Asia\n",
              "4      50    468     33    J   HPQCMC  QX90  [95$]         Africa\n",
              "..    ...    ...    ...  ...      ...   ...    ...            ...\n",
              "945  9460    136     12    C   HGVBPV  NG88  [51$]  South America\n",
              "946  9470    316     46    L   SHBAUD  IE12  [33$]  North America\n",
              "947  9480    461     46    K   PUZUVO  HB82  [12$]         Europe\n",
              "948  9490    185     13    N   UMESZO  WJ90  [39$]  North America\n",
              "949  9500    137     10    W   JOHHVL  QE45  [10$]  South America\n",
              "\n",
              "[950 rows x 8 columns]"
            ]
          },
          "execution_count": 312,
          "metadata": {},
          "output_type": "execute_result"
        }
      ],
      "source": [
        "#03\n",
        "# deleted model column temporarily\n",
        "myDF.drop('Model' , axis=1)\n",
        "myDF"
      ]
    },
    {
      "cell_type": "code",
      "execution_count": null,
      "metadata": {
        "id": "qeyVy2rXOM_l",
        "outputId": "bb8cba98-970e-4074-c13f-92b03ff20947"
      },
      "outputs": [
        {
          "data": {
            "text/html": [
              "<div>\n",
              "<style scoped>\n",
              "    .dataframe tbody tr th:only-of-type {\n",
              "        vertical-align: middle;\n",
              "    }\n",
              "\n",
              "    .dataframe tbody tr th {\n",
              "        vertical-align: top;\n",
              "    }\n",
              "\n",
              "    .dataframe thead th {\n",
              "        text-align: right;\n",
              "    }\n",
              "</style>\n",
              "<table border=\"1\" class=\"dataframe\">\n",
              "  <thead>\n",
              "    <tr style=\"text-align: right;\">\n",
              "      <th></th>\n",
              "      <th>ID</th>\n",
              "      <th>Range</th>\n",
              "      <th>Value</th>\n",
              "      <th>Type</th>\n",
              "      <th>Zip Code</th>\n",
              "      <th>Cost</th>\n",
              "      <th>Continent</th>\n",
              "    </tr>\n",
              "  </thead>\n",
              "  <tbody>\n",
              "    <tr>\n",
              "      <th>0</th>\n",
              "      <td>10</td>\n",
              "      <td>192</td>\n",
              "      <td>50</td>\n",
              "      <td>F</td>\n",
              "      <td>NXEYEM</td>\n",
              "      <td>[56$]</td>\n",
              "      <td>Asia</td>\n",
              "    </tr>\n",
              "    <tr>\n",
              "      <th>1</th>\n",
              "      <td>20</td>\n",
              "      <td>299</td>\n",
              "      <td>21</td>\n",
              "      <td>M</td>\n",
              "      <td>VNFKZD</td>\n",
              "      <td>[18$]</td>\n",
              "      <td>Asia</td>\n",
              "    </tr>\n",
              "    <tr>\n",
              "      <th>2</th>\n",
              "      <td>30</td>\n",
              "      <td>378</td>\n",
              "      <td>28</td>\n",
              "      <td>X</td>\n",
              "      <td>IMGMFY</td>\n",
              "      <td>[90$]</td>\n",
              "      <td>North America</td>\n",
              "    </tr>\n",
              "    <tr>\n",
              "      <th>3</th>\n",
              "      <td>40</td>\n",
              "      <td>156</td>\n",
              "      <td>44</td>\n",
              "      <td>Q</td>\n",
              "      <td>RHRHJY</td>\n",
              "      <td>[89$]</td>\n",
              "      <td>Asia</td>\n",
              "    </tr>\n",
              "    <tr>\n",
              "      <th>4</th>\n",
              "      <td>50</td>\n",
              "      <td>468</td>\n",
              "      <td>33</td>\n",
              "      <td>J</td>\n",
              "      <td>HPQCMC</td>\n",
              "      <td>[95$]</td>\n",
              "      <td>Africa</td>\n",
              "    </tr>\n",
              "    <tr>\n",
              "      <th>...</th>\n",
              "      <td>...</td>\n",
              "      <td>...</td>\n",
              "      <td>...</td>\n",
              "      <td>...</td>\n",
              "      <td>...</td>\n",
              "      <td>...</td>\n",
              "      <td>...</td>\n",
              "    </tr>\n",
              "    <tr>\n",
              "      <th>945</th>\n",
              "      <td>9460</td>\n",
              "      <td>136</td>\n",
              "      <td>12</td>\n",
              "      <td>C</td>\n",
              "      <td>HGVBPV</td>\n",
              "      <td>[51$]</td>\n",
              "      <td>South America</td>\n",
              "    </tr>\n",
              "    <tr>\n",
              "      <th>946</th>\n",
              "      <td>9470</td>\n",
              "      <td>316</td>\n",
              "      <td>46</td>\n",
              "      <td>L</td>\n",
              "      <td>SHBAUD</td>\n",
              "      <td>[33$]</td>\n",
              "      <td>North America</td>\n",
              "    </tr>\n",
              "    <tr>\n",
              "      <th>947</th>\n",
              "      <td>9480</td>\n",
              "      <td>461</td>\n",
              "      <td>46</td>\n",
              "      <td>K</td>\n",
              "      <td>PUZUVO</td>\n",
              "      <td>[12$]</td>\n",
              "      <td>Europe</td>\n",
              "    </tr>\n",
              "    <tr>\n",
              "      <th>948</th>\n",
              "      <td>9490</td>\n",
              "      <td>185</td>\n",
              "      <td>13</td>\n",
              "      <td>N</td>\n",
              "      <td>UMESZO</td>\n",
              "      <td>[39$]</td>\n",
              "      <td>North America</td>\n",
              "    </tr>\n",
              "    <tr>\n",
              "      <th>949</th>\n",
              "      <td>9500</td>\n",
              "      <td>137</td>\n",
              "      <td>10</td>\n",
              "      <td>W</td>\n",
              "      <td>JOHHVL</td>\n",
              "      <td>[10$]</td>\n",
              "      <td>South America</td>\n",
              "    </tr>\n",
              "  </tbody>\n",
              "</table>\n",
              "<p>950 rows × 7 columns</p>\n",
              "</div>"
            ],
            "text/plain": [
              "       ID  Range  Value Type Zip Code   Cost      Continent\n",
              "0      10    192     50    F   NXEYEM  [56$]           Asia\n",
              "1      20    299     21    M   VNFKZD  [18$]           Asia\n",
              "2      30    378     28    X   IMGMFY  [90$]  North America\n",
              "3      40    156     44    Q   RHRHJY  [89$]           Asia\n",
              "4      50    468     33    J   HPQCMC  [95$]         Africa\n",
              "..    ...    ...    ...  ...      ...    ...            ...\n",
              "945  9460    136     12    C   HGVBPV  [51$]  South America\n",
              "946  9470    316     46    L   SHBAUD  [33$]  North America\n",
              "947  9480    461     46    K   PUZUVO  [12$]         Europe\n",
              "948  9490    185     13    N   UMESZO  [39$]  North America\n",
              "949  9500    137     10    W   JOHHVL  [10$]  South America\n",
              "\n",
              "[950 rows x 7 columns]"
            ]
          },
          "execution_count": 313,
          "metadata": {},
          "output_type": "execute_result"
        }
      ],
      "source": [
        "#04\n",
        "#There is no output when run the permenant deletion. \n",
        "#Also if I view the dataframe by using \"myDF\", model column is not there.\n",
        "myDF = myDF.drop('Model' , axis=1)\n",
        "myDF"
      ]
    },
    {
      "cell_type": "code",
      "execution_count": null,
      "metadata": {
        "id": "3WNbcpk2OM_l",
        "outputId": "7be4b809-47ad-4dec-bc27-ef938434bb7b"
      },
      "outputs": [
        {
          "data": {
            "text/html": [
              "<div>\n",
              "<style scoped>\n",
              "    .dataframe tbody tr th:only-of-type {\n",
              "        vertical-align: middle;\n",
              "    }\n",
              "\n",
              "    .dataframe tbody tr th {\n",
              "        vertical-align: top;\n",
              "    }\n",
              "\n",
              "    .dataframe thead th {\n",
              "        text-align: right;\n",
              "    }\n",
              "</style>\n",
              "<table border=\"1\" class=\"dataframe\">\n",
              "  <thead>\n",
              "    <tr style=\"text-align: right;\">\n",
              "      <th></th>\n",
              "      <th>ID</th>\n",
              "      <th>Range</th>\n",
              "      <th>Value</th>\n",
              "      <th>Type</th>\n",
              "      <th>Zip Code</th>\n",
              "      <th>Cost</th>\n",
              "      <th>Continent</th>\n",
              "    </tr>\n",
              "  </thead>\n",
              "  <tbody>\n",
              "    <tr>\n",
              "      <th>0</th>\n",
              "      <td>10</td>\n",
              "      <td>192</td>\n",
              "      <td>50</td>\n",
              "      <td>F</td>\n",
              "      <td>NXEYEM</td>\n",
              "      <td>[56$]</td>\n",
              "      <td>Asia</td>\n",
              "    </tr>\n",
              "    <tr>\n",
              "      <th>2</th>\n",
              "      <td>30</td>\n",
              "      <td>378</td>\n",
              "      <td>28</td>\n",
              "      <td>X</td>\n",
              "      <td>IMGMFY</td>\n",
              "      <td>[90$]</td>\n",
              "      <td>North America</td>\n",
              "    </tr>\n",
              "    <tr>\n",
              "      <th>4</th>\n",
              "      <td>50</td>\n",
              "      <td>468</td>\n",
              "      <td>33</td>\n",
              "      <td>J</td>\n",
              "      <td>HPQCMC</td>\n",
              "      <td>[95$]</td>\n",
              "      <td>Africa</td>\n",
              "    </tr>\n",
              "    <tr>\n",
              "      <th>6</th>\n",
              "      <td>70</td>\n",
              "      <td>327</td>\n",
              "      <td>24</td>\n",
              "      <td>F</td>\n",
              "      <td>NLVQPY</td>\n",
              "      <td>[25$]</td>\n",
              "      <td>Europe</td>\n",
              "    </tr>\n",
              "  </tbody>\n",
              "</table>\n",
              "</div>"
            ],
            "text/plain": [
              "   ID  Range  Value Type Zip Code   Cost      Continent\n",
              "0  10    192     50    F   NXEYEM  [56$]           Asia\n",
              "2  30    378     28    X   IMGMFY  [90$]  North America\n",
              "4  50    468     33    J   HPQCMC  [95$]         Africa\n",
              "6  70    327     24    F   NLVQPY  [25$]         Europe"
            ]
          },
          "execution_count": 314,
          "metadata": {},
          "output_type": "execute_result"
        }
      ],
      "source": [
        "#05\n",
        "myDF.drop([1 , 3 , 5] , axis=0 , inplace=True)\n",
        "myDF.head(4)"
      ]
    },
    {
      "cell_type": "code",
      "execution_count": null,
      "metadata": {
        "id": "joG1FhdPOM_m",
        "outputId": "bec470d3-2641-465f-8237-2b8f0e20e14d"
      },
      "outputs": [
        {
          "data": {
            "text/plain": [
              "297.53326293558604"
            ]
          },
          "execution_count": 315,
          "metadata": {},
          "output_type": "execute_result"
        }
      ],
      "source": [
        "#06\n",
        "myDF['Range'].mean()"
      ]
    },
    {
      "cell_type": "code",
      "execution_count": null,
      "metadata": {
        "id": "vfo1oWjyOM_m",
        "outputId": "ae518249-ccc4-44f2-895a-d6485785c372"
      },
      "outputs": [
        {
          "data": {
            "text/plain": [
              "50"
            ]
          },
          "execution_count": 316,
          "metadata": {},
          "output_type": "execute_result"
        }
      ],
      "source": [
        "#07\n",
        "myDF['Type'].value_counts()['F']"
      ]
    },
    {
      "cell_type": "code",
      "execution_count": null,
      "metadata": {
        "id": "1s_5e9CJOM_m",
        "outputId": "9caa5489-5173-4856-cf66-b4ac3fd8e02d"
      },
      "outputs": [
        {
          "data": {
            "text/html": [
              "<div>\n",
              "<style scoped>\n",
              "    .dataframe tbody tr th:only-of-type {\n",
              "        vertical-align: middle;\n",
              "    }\n",
              "\n",
              "    .dataframe tbody tr th {\n",
              "        vertical-align: top;\n",
              "    }\n",
              "\n",
              "    .dataframe thead th {\n",
              "        text-align: right;\n",
              "    }\n",
              "</style>\n",
              "<table border=\"1\" class=\"dataframe\">\n",
              "  <thead>\n",
              "    <tr style=\"text-align: right;\">\n",
              "      <th></th>\n",
              "      <th>ID</th>\n",
              "      <th>Range</th>\n",
              "      <th>Value</th>\n",
              "      <th>Type</th>\n",
              "      <th>Zip Code</th>\n",
              "      <th>Cost</th>\n",
              "      <th>Continent</th>\n",
              "    </tr>\n",
              "  </thead>\n",
              "  <tbody>\n",
              "    <tr>\n",
              "      <th>0</th>\n",
              "      <td>10</td>\n",
              "      <td>192</td>\n",
              "      <td>50</td>\n",
              "      <td>AAA</td>\n",
              "      <td>NXEYEM</td>\n",
              "      <td>[56$]</td>\n",
              "      <td>Asia</td>\n",
              "    </tr>\n",
              "    <tr>\n",
              "      <th>2</th>\n",
              "      <td>30</td>\n",
              "      <td>378</td>\n",
              "      <td>28</td>\n",
              "      <td>X</td>\n",
              "      <td>IMGMFY</td>\n",
              "      <td>[90$]</td>\n",
              "      <td>North America</td>\n",
              "    </tr>\n",
              "    <tr>\n",
              "      <th>4</th>\n",
              "      <td>50</td>\n",
              "      <td>468</td>\n",
              "      <td>33</td>\n",
              "      <td>J</td>\n",
              "      <td>HPQCMC</td>\n",
              "      <td>[95$]</td>\n",
              "      <td>Africa</td>\n",
              "    </tr>\n",
              "    <tr>\n",
              "      <th>6</th>\n",
              "      <td>70</td>\n",
              "      <td>327</td>\n",
              "      <td>24</td>\n",
              "      <td>AAA</td>\n",
              "      <td>NLVQPY</td>\n",
              "      <td>[25$]</td>\n",
              "      <td>Europe</td>\n",
              "    </tr>\n",
              "    <tr>\n",
              "      <th>7</th>\n",
              "      <td>80</td>\n",
              "      <td>495</td>\n",
              "      <td>50</td>\n",
              "      <td>Z</td>\n",
              "      <td>DLUMAX</td>\n",
              "      <td>[70$]</td>\n",
              "      <td>Antarctica</td>\n",
              "    </tr>\n",
              "  </tbody>\n",
              "</table>\n",
              "</div>"
            ],
            "text/plain": [
              "   ID  Range  Value Type Zip Code   Cost      Continent\n",
              "0  10    192     50  AAA   NXEYEM  [56$]           Asia\n",
              "2  30    378     28    X   IMGMFY  [90$]  North America\n",
              "4  50    468     33    J   HPQCMC  [95$]         Africa\n",
              "6  70    327     24  AAA   NLVQPY  [25$]         Europe\n",
              "7  80    495     50    Z   DLUMAX  [70$]     Antarctica"
            ]
          },
          "execution_count": 283,
          "metadata": {},
          "output_type": "execute_result"
        }
      ],
      "source": [
        "myDF['Type'] = myDF['Type'].replace('F' , 'AAA')\n",
        "myDF.head(5)"
      ]
    },
    {
      "cell_type": "code",
      "execution_count": null,
      "metadata": {
        "id": "dO_yYwbpOM_n",
        "outputId": "e0161f99-8a32-4d9d-9ee8-19a1ff6cbff2"
      },
      "outputs": [
        {
          "name": "stdout",
          "output_type": "stream",
          "text": [
            "   ID  Range  Value Type Zip Code Cost      Continent\n",
            "0  10    192     50    F   NXEYEM   56           Asia\n",
            "2  30    378     28    X   IMGMFY   90  North America\n",
            "4  50    468     33    J   HPQCMC   95         Africa\n",
            "6  70    327     24    F   NLVQPY   25         Europe\n",
            "7  80    495     50    Z   DLUMAX   70     Antarctica\n",
            "object\n"
          ]
        }
      ],
      "source": [
        "#08\n",
        "myDF['Cost'] = myDF['Cost'].str.strip(\"[ $ ]\")\n",
        "print(myDF.head(5))\n",
        "print(myDF['Cost'].dtypes)"
      ]
    },
    {
      "cell_type": "code",
      "execution_count": null,
      "metadata": {
        "id": "vTLmYGzlOM_n",
        "outputId": "3f8dc311-76f2-47dd-b2ff-7e8e496cb2d9"
      },
      "outputs": [
        {
          "data": {
            "text/plain": [
              "0      56\n",
              "2      90\n",
              "4      95\n",
              "6      25\n",
              "7      70\n",
              "       ..\n",
              "945    51\n",
              "946    33\n",
              "947    12\n",
              "948    39\n",
              "949    10\n",
              "Name: Cost, Length: 947, dtype: int32"
            ]
          },
          "execution_count": 318,
          "metadata": {},
          "output_type": "execute_result"
        }
      ],
      "source": [
        "#09\n",
        "myDF['Cost'] = myDF['Cost'].astype(int)\n",
        "myDF['Cost']"
      ]
    },
    {
      "cell_type": "code",
      "execution_count": null,
      "metadata": {
        "id": "JOLmE2sSOM_n",
        "outputId": "1b7f0960-058f-4f5a-bcb9-56b9702de01d"
      },
      "outputs": [
        {
          "name": "stdout",
          "output_type": "stream",
          "text": [
            "Average of Cost column =  54.586061246040124 \n",
            "\n"
          ]
        },
        {
          "data": {
            "text/plain": [
              "Continent\n",
              "Africa           54.741259\n",
              "Antarctica       54.706897\n",
              "Asia             54.279070\n",
              "Australia        56.838028\n",
              "Europe           53.258993\n",
              "North America    55.006993\n",
              "South America    53.162963\n",
              "Name: Cost, dtype: float64"
            ]
          },
          "execution_count": 320,
          "metadata": {},
          "output_type": "execute_result"
        }
      ],
      "source": [
        "#10\n",
        "print(\"Average of Cost column = \", myDF['Cost'].mean() , \"\\n\")\n",
        "myDF.groupby('Continent')['Cost'].mean()"
      ]
    },
    {
      "cell_type": "code",
      "execution_count": null,
      "metadata": {
        "id": "90K5LwfgOM_o",
        "outputId": "518bd3bd-4980-4cba-a086-5c02f80fc3f2"
      },
      "outputs": [
        {
          "data": {
            "text/html": [
              "<div>\n",
              "<style scoped>\n",
              "    .dataframe tbody tr th:only-of-type {\n",
              "        vertical-align: middle;\n",
              "    }\n",
              "\n",
              "    .dataframe tbody tr th {\n",
              "        vertical-align: top;\n",
              "    }\n",
              "\n",
              "    .dataframe thead tr th {\n",
              "        text-align: left;\n",
              "    }\n",
              "\n",
              "    .dataframe thead tr:last-of-type th {\n",
              "        text-align: right;\n",
              "    }\n",
              "</style>\n",
              "<table border=\"1\" class=\"dataframe\">\n",
              "  <thead>\n",
              "    <tr>\n",
              "      <th></th>\n",
              "      <th colspan=\"3\" halign=\"left\">Cost</th>\n",
              "    </tr>\n",
              "    <tr>\n",
              "      <th></th>\n",
              "      <th>min</th>\n",
              "      <th>max</th>\n",
              "      <th>std</th>\n",
              "    </tr>\n",
              "    <tr>\n",
              "      <th>Continent</th>\n",
              "      <th></th>\n",
              "      <th></th>\n",
              "      <th></th>\n",
              "    </tr>\n",
              "  </thead>\n",
              "  <tbody>\n",
              "    <tr>\n",
              "      <th>Africa</th>\n",
              "      <td>11</td>\n",
              "      <td>97</td>\n",
              "      <td>25.961432</td>\n",
              "    </tr>\n",
              "    <tr>\n",
              "      <th>Antarctica</th>\n",
              "      <td>10</td>\n",
              "      <td>97</td>\n",
              "      <td>24.880590</td>\n",
              "    </tr>\n",
              "    <tr>\n",
              "      <th>Asia</th>\n",
              "      <td>10</td>\n",
              "      <td>99</td>\n",
              "      <td>26.109737</td>\n",
              "    </tr>\n",
              "    <tr>\n",
              "      <th>Australia</th>\n",
              "      <td>10</td>\n",
              "      <td>97</td>\n",
              "      <td>26.057121</td>\n",
              "    </tr>\n",
              "    <tr>\n",
              "      <th>Europe</th>\n",
              "      <td>10</td>\n",
              "      <td>99</td>\n",
              "      <td>26.185054</td>\n",
              "    </tr>\n",
              "    <tr>\n",
              "      <th>North America</th>\n",
              "      <td>10</td>\n",
              "      <td>99</td>\n",
              "      <td>25.664821</td>\n",
              "    </tr>\n",
              "    <tr>\n",
              "      <th>South America</th>\n",
              "      <td>10</td>\n",
              "      <td>98</td>\n",
              "      <td>25.724780</td>\n",
              "    </tr>\n",
              "  </tbody>\n",
              "</table>\n",
              "</div>"
            ],
            "text/plain": [
              "              Cost               \n",
              "               min max        std\n",
              "Continent                        \n",
              "Africa          11  97  25.961432\n",
              "Antarctica      10  97  24.880590\n",
              "Asia            10  99  26.109737\n",
              "Australia       10  97  26.057121\n",
              "Europe          10  99  26.185054\n",
              "North America   10  99  25.664821\n",
              "South America   10  98  25.724780"
            ]
          },
          "execution_count": 322,
          "metadata": {},
          "output_type": "execute_result"
        }
      ],
      "source": [
        "#11\n",
        "myDF.groupby('Continent').agg({'Cost' : ['min' , 'max' , 'std']})"
      ]
    },
    {
      "cell_type": "code",
      "execution_count": null,
      "metadata": {
        "id": "RwIjavJROM_o",
        "outputId": "5d0e01a4-229f-48b0-83e4-7a236d70a7fe"
      },
      "outputs": [
        {
          "data": {
            "text/html": [
              "<div>\n",
              "<style scoped>\n",
              "    .dataframe tbody tr th:only-of-type {\n",
              "        vertical-align: middle;\n",
              "    }\n",
              "\n",
              "    .dataframe tbody tr th {\n",
              "        vertical-align: top;\n",
              "    }\n",
              "\n",
              "    .dataframe thead tr th {\n",
              "        text-align: left;\n",
              "    }\n",
              "\n",
              "    .dataframe thead tr:last-of-type th {\n",
              "        text-align: right;\n",
              "    }\n",
              "</style>\n",
              "<table border=\"1\" class=\"dataframe\">\n",
              "  <thead>\n",
              "    <tr>\n",
              "      <th></th>\n",
              "      <th colspan=\"3\" halign=\"left\">ID</th>\n",
              "      <th colspan=\"3\" halign=\"left\">Range</th>\n",
              "      <th colspan=\"3\" halign=\"left\">Value</th>\n",
              "      <th colspan=\"3\" halign=\"left\">Cost</th>\n",
              "    </tr>\n",
              "    <tr>\n",
              "      <th></th>\n",
              "      <th>min</th>\n",
              "      <th>max</th>\n",
              "      <th>std</th>\n",
              "      <th>min</th>\n",
              "      <th>max</th>\n",
              "      <th>std</th>\n",
              "      <th>min</th>\n",
              "      <th>max</th>\n",
              "      <th>std</th>\n",
              "      <th>min</th>\n",
              "      <th>max</th>\n",
              "      <th>std</th>\n",
              "    </tr>\n",
              "    <tr>\n",
              "      <th>Continent</th>\n",
              "      <th></th>\n",
              "      <th></th>\n",
              "      <th></th>\n",
              "      <th></th>\n",
              "      <th></th>\n",
              "      <th></th>\n",
              "      <th></th>\n",
              "      <th></th>\n",
              "      <th></th>\n",
              "      <th></th>\n",
              "      <th></th>\n",
              "      <th></th>\n",
              "    </tr>\n",
              "  </thead>\n",
              "  <tbody>\n",
              "    <tr>\n",
              "      <th>Africa</th>\n",
              "      <td>50</td>\n",
              "      <td>9450</td>\n",
              "      <td>2614.387519</td>\n",
              "      <td>100</td>\n",
              "      <td>494</td>\n",
              "      <td>118.110406</td>\n",
              "      <td>10</td>\n",
              "      <td>50</td>\n",
              "      <td>12.498931</td>\n",
              "      <td>11</td>\n",
              "      <td>97</td>\n",
              "      <td>25.961432</td>\n",
              "    </tr>\n",
              "    <tr>\n",
              "      <th>Antarctica</th>\n",
              "      <td>80</td>\n",
              "      <td>9370</td>\n",
              "      <td>2936.313786</td>\n",
              "      <td>106</td>\n",
              "      <td>495</td>\n",
              "      <td>114.401370</td>\n",
              "      <td>10</td>\n",
              "      <td>50</td>\n",
              "      <td>11.978316</td>\n",
              "      <td>10</td>\n",
              "      <td>97</td>\n",
              "      <td>24.880590</td>\n",
              "    </tr>\n",
              "    <tr>\n",
              "      <th>Asia</th>\n",
              "      <td>10</td>\n",
              "      <td>9390</td>\n",
              "      <td>2683.431665</td>\n",
              "      <td>103</td>\n",
              "      <td>499</td>\n",
              "      <td>112.047425</td>\n",
              "      <td>10</td>\n",
              "      <td>50</td>\n",
              "      <td>11.752819</td>\n",
              "      <td>10</td>\n",
              "      <td>99</td>\n",
              "      <td>26.109737</td>\n",
              "    </tr>\n",
              "    <tr>\n",
              "      <th>Australia</th>\n",
              "      <td>120</td>\n",
              "      <td>9410</td>\n",
              "      <td>2793.945560</td>\n",
              "      <td>104</td>\n",
              "      <td>496</td>\n",
              "      <td>116.374530</td>\n",
              "      <td>10</td>\n",
              "      <td>50</td>\n",
              "      <td>13.138226</td>\n",
              "      <td>10</td>\n",
              "      <td>97</td>\n",
              "      <td>26.057121</td>\n",
              "    </tr>\n",
              "    <tr>\n",
              "      <th>Europe</th>\n",
              "      <td>70</td>\n",
              "      <td>9480</td>\n",
              "      <td>2623.991892</td>\n",
              "      <td>101</td>\n",
              "      <td>500</td>\n",
              "      <td>116.808685</td>\n",
              "      <td>10</td>\n",
              "      <td>50</td>\n",
              "      <td>11.999544</td>\n",
              "      <td>10</td>\n",
              "      <td>99</td>\n",
              "      <td>26.185054</td>\n",
              "    </tr>\n",
              "    <tr>\n",
              "      <th>North America</th>\n",
              "      <td>30</td>\n",
              "      <td>9490</td>\n",
              "      <td>2841.216413</td>\n",
              "      <td>104</td>\n",
              "      <td>500</td>\n",
              "      <td>113.611333</td>\n",
              "      <td>11</td>\n",
              "      <td>50</td>\n",
              "      <td>12.319601</td>\n",
              "      <td>10</td>\n",
              "      <td>99</td>\n",
              "      <td>25.664821</td>\n",
              "    </tr>\n",
              "    <tr>\n",
              "      <th>South America</th>\n",
              "      <td>90</td>\n",
              "      <td>9500</td>\n",
              "      <td>2656.186804</td>\n",
              "      <td>104</td>\n",
              "      <td>499</td>\n",
              "      <td>117.375623</td>\n",
              "      <td>10</td>\n",
              "      <td>50</td>\n",
              "      <td>11.762450</td>\n",
              "      <td>10</td>\n",
              "      <td>98</td>\n",
              "      <td>25.724780</td>\n",
              "    </tr>\n",
              "  </tbody>\n",
              "</table>\n",
              "</div>"
            ],
            "text/plain": [
              "                ID                    Range                  Value      \\\n",
              "               min   max          std   min  max         std   min max   \n",
              "Continent                                                                \n",
              "Africa          50  9450  2614.387519   100  494  118.110406    10  50   \n",
              "Antarctica      80  9370  2936.313786   106  495  114.401370    10  50   \n",
              "Asia            10  9390  2683.431665   103  499  112.047425    10  50   \n",
              "Australia      120  9410  2793.945560   104  496  116.374530    10  50   \n",
              "Europe          70  9480  2623.991892   101  500  116.808685    10  50   \n",
              "North America   30  9490  2841.216413   104  500  113.611333    11  50   \n",
              "South America   90  9500  2656.186804   104  499  117.375623    10  50   \n",
              "\n",
              "                         Cost                 \n",
              "                     std  min max        std  \n",
              "Continent                                     \n",
              "Africa         12.498931   11  97  25.961432  \n",
              "Antarctica     11.978316   10  97  24.880590  \n",
              "Asia           11.752819   10  99  26.109737  \n",
              "Australia      13.138226   10  97  26.057121  \n",
              "Europe         11.999544   10  99  26.185054  \n",
              "North America  12.319601   10  99  25.664821  \n",
              "South America  11.762450   10  98  25.724780  "
            ]
          },
          "execution_count": 323,
          "metadata": {},
          "output_type": "execute_result"
        }
      ],
      "source": [
        "#12\n",
        "myDF.groupby('Continent').agg(['min' , 'max' , 'std'])"
      ]
    },
    {
      "cell_type": "code",
      "execution_count": null,
      "metadata": {
        "id": "FNDi2E1nOM_o",
        "outputId": "215d2b73-8289-454c-c5c8-aba25eea4cbf"
      },
      "outputs": [
        {
          "data": {
            "text/plain": [
              "<AxesSubplot:xlabel='Continent'>"
            ]
          },
          "execution_count": 324,
          "metadata": {},
          "output_type": "execute_result"
        },
        {
          "data": {
            "image/png": "[encoded data removed]",
            "text/plain": [
              "<Figure size 432x288 with 1 Axes>"
            ]
          },
          "metadata": {
            "needs_background": "light"
          },
          "output_type": "display_data"
        }
      ],
      "source": [
        "#13\n",
        "myDF.groupby('Continent').mean().plot(kind='bar')"
      ]
    },
    {
      "cell_type": "code",
      "execution_count": null,
      "metadata": {
        "id": "OQy6pVUmOM_p",
        "outputId": "711899be-e843-4335-fc73-92fbcc7c33c9"
      },
      "outputs": [
        {
          "data": {
            "text/plain": [
              "North America    143\n",
              "Africa           143\n",
              "Australia        142\n",
              "Europe           139\n",
              "South America    135\n",
              "Asia             129\n",
              "Antarctica       116\n",
              "Name: Continent, dtype: int64"
            ]
          },
          "execution_count": 326,
          "metadata": {},
          "output_type": "execute_result"
        }
      ],
      "source": [
        "#14\n",
        "myDF['Continent'].value_counts()"
      ]
    },
    {
      "cell_type": "code",
      "execution_count": null,
      "metadata": {
        "id": "LIVivwb3OM_p",
        "outputId": "3b27db51-4adf-4063-8195-f82b73a244f2"
      },
      "outputs": [
        {
          "name": "stdout",
          "output_type": "stream",
          "text": [
            "Percentage of each continent :\n"
          ]
        },
        {
          "data": {
            "text/plain": [
              "North America    15.100317\n",
              "Africa           15.100317\n",
              "Australia        14.994720\n",
              "Europe           14.677930\n",
              "South America    14.255544\n",
              "Asia             13.621964\n",
              "Antarctica       12.249208\n",
              "Name: Continent, dtype: float64"
            ]
          },
          "execution_count": 327,
          "metadata": {},
          "output_type": "execute_result"
        }
      ],
      "source": [
        "#15\n",
        "print(\"Percentage of each continent :\")\n",
        "(myDF['Continent'].value_counts() / myDF['Continent'].value_counts().sum()) * 100"
      ]
    },
    {
      "cell_type": "code",
      "execution_count": null,
      "metadata": {
        "id": "xpMBeXOBOM_p",
        "outputId": "8544d884-29c9-432b-83e3-e456ab9f5e05"
      },
      "outputs": [
        {
          "name": "stdout",
          "output_type": "stream",
          "text": [
            "Unique values in Continent column : \n",
            " ['Asia' 'North America' 'Africa' 'Europe' 'Antarctica' 'South America'\n",
            " 'Australia'] \n",
            "\n",
            " Number of Unique values in Continent column : \n",
            " 7\n"
          ]
        }
      ],
      "source": [
        "#16\n",
        "print(\"Unique values in Continent column : \\n\" , myDF['Continent'].unique() ,\n",
        "\"\\n\\n Number of Unique values in Continent column : \\n\" , myDF['Continent'].nunique())"
      ]
    },
    {
      "cell_type": "code",
      "execution_count": null,
      "metadata": {
        "id": "k7PYXqVlOM_q",
        "outputId": "6bb9475d-4369-4df3-9948-0f32c49704c6"
      },
      "outputs": [
        {
          "data": {
            "text/plain": [
              "35    20\n",
              "56    20\n",
              "73    18\n",
              "54    17\n",
              "81    17\n",
              "      ..\n",
              "94     5\n",
              "30     5\n",
              "77     5\n",
              "42     3\n",
              "24     2\n",
              "Name: Cost, Length: 90, dtype: int64"
            ]
          },
          "execution_count": 330,
          "metadata": {},
          "output_type": "execute_result"
        }
      ],
      "source": [
        "#17\n",
        "myDF['Cost'].value_counts()"
      ]
    },
    {
      "cell_type": "code",
      "execution_count": null,
      "metadata": {
        "id": "t2W2F6WBOM_q"
      },
      "outputs": [],
      "source": [
        "# It describes that the occurence of each cost value in the column. \n",
        "# For instance, 35 and 56 occured 20 times, 73 occured 18 times."
      ]
    },
    {
      "cell_type": "code",
      "execution_count": null,
      "metadata": {
        "id": "u8UzeK_cOM_q",
        "outputId": "0717719b-d0b3-4e86-acae-e549d99fd6e2"
      },
      "outputs": [
        {
          "data": {
            "text/plain": [
              "<AxesSubplot:ylabel='Frequency'>"
            ]
          },
          "execution_count": 331,
          "metadata": {},
          "output_type": "execute_result"
        },
        {
          "data": {
            "image/png": "[encoded data removed]",
            "text/plain": [
              "<Figure size 432x288 with 1 Axes>"
            ]
          },
          "metadata": {
            "needs_background": "light"
          },
          "output_type": "display_data"
        }
      ],
      "source": [
        "#18\n",
        "myDF['Cost'].plot(kind='hist')"
      ]
    },
    {
      "cell_type": "code",
      "execution_count": null,
      "metadata": {
        "id": "bzoJvBJ-OM_q",
        "outputId": "79b6a4ae-d54b-4442-f18f-dce6726f4508"
      },
      "outputs": [
        {
          "name": "stdout",
          "output_type": "stream",
          "text": [
            "Missing values in Zip Code column :  9 \n",
            "Missing values in Type column :  2 \n",
            "Summary :\n",
            " ID           0\n",
            "Range        0\n",
            "Value        0\n",
            "Type         2\n",
            "Zip Code     9\n",
            "Cost         0\n",
            "Continent    0\n",
            "dtype: int64\n"
          ]
        }
      ],
      "source": [
        "#20\n",
        "print(\"Missing values in Zip Code column : \" , myDF['Zip Code'].isnull().sum() ,\n",
        "      \"\\nMissing values in Type column : \" , myDF['Type'].isnull().sum(),\n",
        "      \"\\nSummary :\\n\" , myDF.isnull().sum())"
      ]
    },
    {
      "cell_type": "code",
      "execution_count": null,
      "metadata": {
        "id": "nPZTHqKaOM_r",
        "outputId": "67df6505-face-4cda-f58e-d6b229d73a96"
      },
      "outputs": [
        {
          "name": "stdout",
          "output_type": "stream",
          "text": [
            "ID           936\n",
            "Range        936\n",
            "Value        936\n",
            "Type         936\n",
            "Zip Code     936\n",
            "Cost         936\n",
            "Continent    936\n",
            "dtype: int64\n"
          ]
        },
        {
          "data": {
            "text/html": [
              "<div>\n",
              "<style scoped>\n",
              "    .dataframe tbody tr th:only-of-type {\n",
              "        vertical-align: middle;\n",
              "    }\n",
              "\n",
              "    .dataframe tbody tr th {\n",
              "        vertical-align: top;\n",
              "    }\n",
              "\n",
              "    .dataframe thead th {\n",
              "        text-align: right;\n",
              "    }\n",
              "</style>\n",
              "<table border=\"1\" class=\"dataframe\">\n",
              "  <thead>\n",
              "    <tr style=\"text-align: right;\">\n",
              "      <th></th>\n",
              "      <th>ID</th>\n",
              "      <th>Range</th>\n",
              "      <th>Value</th>\n",
              "      <th>Type</th>\n",
              "      <th>Zip Code</th>\n",
              "      <th>Cost</th>\n",
              "      <th>Continent</th>\n",
              "    </tr>\n",
              "  </thead>\n",
              "  <tbody>\n",
              "    <tr>\n",
              "      <th>0</th>\n",
              "      <td>10</td>\n",
              "      <td>192</td>\n",
              "      <td>50</td>\n",
              "      <td>F</td>\n",
              "      <td>NXEYEM</td>\n",
              "      <td>56</td>\n",
              "      <td>Asia</td>\n",
              "    </tr>\n",
              "    <tr>\n",
              "      <th>2</th>\n",
              "      <td>30</td>\n",
              "      <td>378</td>\n",
              "      <td>28</td>\n",
              "      <td>X</td>\n",
              "      <td>IMGMFY</td>\n",
              "      <td>90</td>\n",
              "      <td>North America</td>\n",
              "    </tr>\n",
              "    <tr>\n",
              "      <th>4</th>\n",
              "      <td>50</td>\n",
              "      <td>468</td>\n",
              "      <td>33</td>\n",
              "      <td>J</td>\n",
              "      <td>HPQCMC</td>\n",
              "      <td>95</td>\n",
              "      <td>Africa</td>\n",
              "    </tr>\n",
              "    <tr>\n",
              "      <th>6</th>\n",
              "      <td>70</td>\n",
              "      <td>327</td>\n",
              "      <td>24</td>\n",
              "      <td>F</td>\n",
              "      <td>NLVQPY</td>\n",
              "      <td>25</td>\n",
              "      <td>Europe</td>\n",
              "    </tr>\n",
              "    <tr>\n",
              "      <th>7</th>\n",
              "      <td>80</td>\n",
              "      <td>495</td>\n",
              "      <td>50</td>\n",
              "      <td>Z</td>\n",
              "      <td>DLUMAX</td>\n",
              "      <td>70</td>\n",
              "      <td>Antarctica</td>\n",
              "    </tr>\n",
              "    <tr>\n",
              "      <th>...</th>\n",
              "      <td>...</td>\n",
              "      <td>...</td>\n",
              "      <td>...</td>\n",
              "      <td>...</td>\n",
              "      <td>...</td>\n",
              "      <td>...</td>\n",
              "      <td>...</td>\n",
              "    </tr>\n",
              "    <tr>\n",
              "      <th>945</th>\n",
              "      <td>9460</td>\n",
              "      <td>136</td>\n",
              "      <td>12</td>\n",
              "      <td>C</td>\n",
              "      <td>HGVBPV</td>\n",
              "      <td>51</td>\n",
              "      <td>South America</td>\n",
              "    </tr>\n",
              "    <tr>\n",
              "      <th>946</th>\n",
              "      <td>9470</td>\n",
              "      <td>316</td>\n",
              "      <td>46</td>\n",
              "      <td>L</td>\n",
              "      <td>SHBAUD</td>\n",
              "      <td>33</td>\n",
              "      <td>North America</td>\n",
              "    </tr>\n",
              "    <tr>\n",
              "      <th>947</th>\n",
              "      <td>9480</td>\n",
              "      <td>461</td>\n",
              "      <td>46</td>\n",
              "      <td>K</td>\n",
              "      <td>PUZUVO</td>\n",
              "      <td>12</td>\n",
              "      <td>Europe</td>\n",
              "    </tr>\n",
              "    <tr>\n",
              "      <th>948</th>\n",
              "      <td>9490</td>\n",
              "      <td>185</td>\n",
              "      <td>13</td>\n",
              "      <td>N</td>\n",
              "      <td>UMESZO</td>\n",
              "      <td>39</td>\n",
              "      <td>North America</td>\n",
              "    </tr>\n",
              "    <tr>\n",
              "      <th>949</th>\n",
              "      <td>9500</td>\n",
              "      <td>137</td>\n",
              "      <td>10</td>\n",
              "      <td>W</td>\n",
              "      <td>JOHHVL</td>\n",
              "      <td>10</td>\n",
              "      <td>South America</td>\n",
              "    </tr>\n",
              "  </tbody>\n",
              "</table>\n",
              "<p>936 rows × 7 columns</p>\n",
              "</div>"
            ],
            "text/plain": [
              "       ID  Range  Value Type Zip Code  Cost      Continent\n",
              "0      10    192     50    F   NXEYEM    56           Asia\n",
              "2      30    378     28    X   IMGMFY    90  North America\n",
              "4      50    468     33    J   HPQCMC    95         Africa\n",
              "6      70    327     24    F   NLVQPY    25         Europe\n",
              "7      80    495     50    Z   DLUMAX    70     Antarctica\n",
              "..    ...    ...    ...  ...      ...   ...            ...\n",
              "945  9460    136     12    C   HGVBPV    51  South America\n",
              "946  9470    316     46    L   SHBAUD    33  North America\n",
              "947  9480    461     46    K   PUZUVO    12         Europe\n",
              "948  9490    185     13    N   UMESZO    39  North America\n",
              "949  9500    137     10    W   JOHHVL    10  South America\n",
              "\n",
              "[936 rows x 7 columns]"
            ]
          },
          "execution_count": 334,
          "metadata": {},
          "output_type": "execute_result"
        }
      ],
      "source": [
        "#21\n",
        "print(myDF.dropna().count())\n",
        "myDF.dropna()\n",
        "# If we drop all the rows that have any missing value, \n",
        "# then the remaining rows will be 936."
      ]
    },
    {
      "cell_type": "code",
      "execution_count": null,
      "metadata": {
        "id": "ONGyz4W9OM_r",
        "outputId": "8c8eb402-9924-4d1f-9e46-03c6567f40d2"
      },
      "outputs": [
        {
          "name": "stdout",
          "output_type": "stream",
          "text": [
            "Statistics : \n",
            " F    50\n",
            "N    47\n",
            "Q    44\n",
            "Z    44\n",
            "C    43\n",
            "V    41\n",
            "K    41\n",
            "A    40\n",
            "Y    39\n",
            "H    39\n",
            "G    38\n",
            "X    37\n",
            "M    37\n",
            "O    36\n",
            "U    36\n",
            "J    35\n",
            "L    35\n",
            "S    34\n",
            "I    33\n",
            "W    32\n",
            "D    30\n",
            "B    29\n",
            "T    28\n",
            "P    28\n",
            "R    25\n",
            "E    24\n",
            "Name: Type, dtype: int64 \n",
            "\n",
            "Number of Missing values :  2\n"
          ]
        }
      ],
      "source": [
        "#22\n",
        "print(\"Statistics : \\n\" ,myDF['Type'].value_counts(),\n",
        "        \"\\n\\nNumber of Missing values : \",myDF['Type'].isnull().sum())\n",
        "\n"
      ]
    },
    {
      "cell_type": "code",
      "execution_count": null,
      "metadata": {
        "id": "uSqcLxrUOM_r",
        "outputId": "8a329d0c-acc2-4c95-f2e7-26c478c28b2d"
      },
      "outputs": [
        {
          "name": "stdout",
          "output_type": "stream",
          "text": [
            "Statistics : \n",
            " F      50\n",
            "N      47\n",
            "Q      44\n",
            "Z      44\n",
            "C      43\n",
            "V      41\n",
            "K      41\n",
            "A      40\n",
            "Y      39\n",
            "H      39\n",
            "G      38\n",
            "X      37\n",
            "M      37\n",
            "U      36\n",
            "O      36\n",
            "J      35\n",
            "L      35\n",
            "S      34\n",
            "I      33\n",
            "W      32\n",
            "D      30\n",
            "B      29\n",
            "P      28\n",
            "T      28\n",
            "R      25\n",
            "E      24\n",
            "XXX     2\n",
            "Name: Type, dtype: int64 \n",
            "\n",
            "Number of Missing values :  0\n"
          ]
        }
      ],
      "source": [
        "#23\n",
        "myDF['Type'] = myDF['Type'].fillna('XXX')\n",
        "print(\"Statistics : \\n\" ,myDF['Type'].value_counts(),\n",
        "        \"\\n\\nNumber of Missing values : \",myDF['Type'].isnull().sum())"
      ]
    },
    {
      "cell_type": "code",
      "execution_count": null,
      "metadata": {
        "id": "u3FXgnIyOM_r",
        "outputId": "8fbc28e3-fa98-4e3f-ba05-56c8121f82cd"
      },
      "outputs": [
        {
          "name": "stdout",
          "output_type": "stream",
          "text": [
            "ID           938\n",
            "Range        938\n",
            "Value        938\n",
            "Type         938\n",
            "Zip Code     938\n",
            "Cost         938\n",
            "Continent    938\n",
            "dtype: int64\n"
          ]
        },
        {
          "data": {
            "text/html": [
              "<div>\n",
              "<style scoped>\n",
              "    .dataframe tbody tr th:only-of-type {\n",
              "        vertical-align: middle;\n",
              "    }\n",
              "\n",
              "    .dataframe tbody tr th {\n",
              "        vertical-align: top;\n",
              "    }\n",
              "\n",
              "    .dataframe thead th {\n",
              "        text-align: right;\n",
              "    }\n",
              "</style>\n",
              "<table border=\"1\" class=\"dataframe\">\n",
              "  <thead>\n",
              "    <tr style=\"text-align: right;\">\n",
              "      <th></th>\n",
              "      <th>ID</th>\n",
              "      <th>Range</th>\n",
              "      <th>Value</th>\n",
              "      <th>Type</th>\n",
              "      <th>Zip Code</th>\n",
              "      <th>Cost</th>\n",
              "      <th>Continent</th>\n",
              "    </tr>\n",
              "  </thead>\n",
              "  <tbody>\n",
              "    <tr>\n",
              "      <th>0</th>\n",
              "      <td>10</td>\n",
              "      <td>192</td>\n",
              "      <td>50</td>\n",
              "      <td>AAA</td>\n",
              "      <td>NXEYEM</td>\n",
              "      <td>56</td>\n",
              "      <td>Asia</td>\n",
              "    </tr>\n",
              "    <tr>\n",
              "      <th>2</th>\n",
              "      <td>30</td>\n",
              "      <td>378</td>\n",
              "      <td>28</td>\n",
              "      <td>X</td>\n",
              "      <td>IMGMFY</td>\n",
              "      <td>90</td>\n",
              "      <td>North America</td>\n",
              "    </tr>\n",
              "    <tr>\n",
              "      <th>4</th>\n",
              "      <td>50</td>\n",
              "      <td>468</td>\n",
              "      <td>33</td>\n",
              "      <td>J</td>\n",
              "      <td>HPQCMC</td>\n",
              "      <td>95</td>\n",
              "      <td>Africa</td>\n",
              "    </tr>\n",
              "    <tr>\n",
              "      <th>6</th>\n",
              "      <td>70</td>\n",
              "      <td>327</td>\n",
              "      <td>24</td>\n",
              "      <td>AAA</td>\n",
              "      <td>NLVQPY</td>\n",
              "      <td>25</td>\n",
              "      <td>Europe</td>\n",
              "    </tr>\n",
              "    <tr>\n",
              "      <th>7</th>\n",
              "      <td>80</td>\n",
              "      <td>495</td>\n",
              "      <td>50</td>\n",
              "      <td>Z</td>\n",
              "      <td>DLUMAX</td>\n",
              "      <td>70</td>\n",
              "      <td>Antarctica</td>\n",
              "    </tr>\n",
              "    <tr>\n",
              "      <th>...</th>\n",
              "      <td>...</td>\n",
              "      <td>...</td>\n",
              "      <td>...</td>\n",
              "      <td>...</td>\n",
              "      <td>...</td>\n",
              "      <td>...</td>\n",
              "      <td>...</td>\n",
              "    </tr>\n",
              "    <tr>\n",
              "      <th>945</th>\n",
              "      <td>9460</td>\n",
              "      <td>136</td>\n",
              "      <td>12</td>\n",
              "      <td>C</td>\n",
              "      <td>HGVBPV</td>\n",
              "      <td>51</td>\n",
              "      <td>South America</td>\n",
              "    </tr>\n",
              "    <tr>\n",
              "      <th>946</th>\n",
              "      <td>9470</td>\n",
              "      <td>316</td>\n",
              "      <td>46</td>\n",
              "      <td>L</td>\n",
              "      <td>SHBAUD</td>\n",
              "      <td>33</td>\n",
              "      <td>North America</td>\n",
              "    </tr>\n",
              "    <tr>\n",
              "      <th>947</th>\n",
              "      <td>9480</td>\n",
              "      <td>461</td>\n",
              "      <td>46</td>\n",
              "      <td>K</td>\n",
              "      <td>PUZUVO</td>\n",
              "      <td>12</td>\n",
              "      <td>Europe</td>\n",
              "    </tr>\n",
              "    <tr>\n",
              "      <th>948</th>\n",
              "      <td>9490</td>\n",
              "      <td>185</td>\n",
              "      <td>13</td>\n",
              "      <td>N</td>\n",
              "      <td>UMESZO</td>\n",
              "      <td>39</td>\n",
              "      <td>North America</td>\n",
              "    </tr>\n",
              "    <tr>\n",
              "      <th>949</th>\n",
              "      <td>9500</td>\n",
              "      <td>137</td>\n",
              "      <td>10</td>\n",
              "      <td>W</td>\n",
              "      <td>JOHHVL</td>\n",
              "      <td>10</td>\n",
              "      <td>South America</td>\n",
              "    </tr>\n",
              "  </tbody>\n",
              "</table>\n",
              "<p>938 rows × 7 columns</p>\n",
              "</div>"
            ],
            "text/plain": [
              "       ID  Range  Value Type Zip Code  Cost      Continent\n",
              "0      10    192     50  AAA   NXEYEM    56           Asia\n",
              "2      30    378     28    X   IMGMFY    90  North America\n",
              "4      50    468     33    J   HPQCMC    95         Africa\n",
              "6      70    327     24  AAA   NLVQPY    25         Europe\n",
              "7      80    495     50    Z   DLUMAX    70     Antarctica\n",
              "..    ...    ...    ...  ...      ...   ...            ...\n",
              "945  9460    136     12    C   HGVBPV    51  South America\n",
              "946  9470    316     46    L   SHBAUD    33  North America\n",
              "947  9480    461     46    K   PUZUVO    12         Europe\n",
              "948  9490    185     13    N   UMESZO    39  North America\n",
              "949  9500    137     10    W   JOHHVL    10  South America\n",
              "\n",
              "[938 rows x 7 columns]"
            ]
          },
          "execution_count": 300,
          "metadata": {},
          "output_type": "execute_result"
        }
      ],
      "source": [
        "#24\n",
        "myDF = myDF.dropna()\n",
        "print(myDF.dropna().count())\n",
        "myDF"
      ]
    },
    {
      "cell_type": "code",
      "execution_count": null,
      "metadata": {
        "id": "orXYcCCzOM_s",
        "outputId": "e655c145-166b-4463-ac7b-9278b8716f27"
      },
      "outputs": [
        {
          "name": "stdout",
          "output_type": "stream",
          "text": [
            "    Range  Value Type Zip Code  Cost      Continent\n",
            "10    192     50  AAA   NXEYEM    56           Asia\n",
            "30    378     28    X   IMGMFY    90  North America\n",
            "50    468     33    J   HPQCMC    95         Africa\n",
            "70    327     24  AAA   NLVQPY    25         Europe\n",
            "80    495     50    Z   DLUMAX    70     Antarctica\n"
          ]
        },
        {
          "data": {
            "text/plain": [
              "70    24\n",
              "Name: Value, dtype: int64"
            ]
          },
          "execution_count": 301,
          "metadata": {},
          "output_type": "execute_result"
        }
      ],
      "source": [
        "#25\n",
        "myDF = myDF.set_index('ID')\n",
        "myDF = myDF.rename_axis(index=None)\n",
        "print(myDF.head())\n",
        "myDF.loc[[70], 'Value']\n"
      ]
    },
    {
      "cell_type": "code",
      "execution_count": null,
      "metadata": {
        "id": "gMdUIDsJOM_s",
        "outputId": "a7b4e006-6542-43e4-9d1d-d8f766210a7b"
      },
      "outputs": [
        {
          "name": "stdout",
          "output_type": "stream",
          "text": [
            "### Before get back the ID ###\n",
            "Index :  Int64Index([  10,   30,   50,   70,   80,   90,  100,  110,  120,  130,\n",
            "            ...\n",
            "            9410, 9420, 9430, 9440, 9450, 9460, 9470, 9480, 9490, 9500],\n",
            "           dtype='int64', length=938) \n",
            "\n",
            " Columns :  Index(['Range', 'Value', 'Type', 'Zip Code', 'Cost', 'Continent'], dtype='object') \n",
            "\n",
            " Shape :  (938, 6) \n",
            "\n",
            "\n",
            "### After get back the ID ###\n",
            "Index :  RangeIndex(start=0, stop=938, step=1) \n",
            "\n",
            " Columns :  Index(['ID', 'Range', 'Value', 'Type', 'Zip Code', 'Cost', 'Continent'], dtype='object') \n",
            "\n",
            " Shape :  (938, 7)\n"
          ]
        }
      ],
      "source": [
        "#26\n",
        "print(\"### Before get back the ID ###\")\n",
        "print(\"Index : \" , myDF.index, \"\\n\\n\" , \n",
        "    \"Columns : \" ,myDF.columns , \"\\n\\n\" , \n",
        "    \"Shape : \" ,myDF.shape , \"\\n\\n\")\n",
        "\n",
        "myDF = myDF.rename_axis(index='ID')\n",
        "myDF = myDF.reset_index()\n",
        "\n",
        "print(\"### After get back the ID ###\")\n",
        "print(\"Index : \" , myDF.index, \"\\n\\n\" , \n",
        "    \"Columns : \" ,myDF.columns , \"\\n\\n\" , \n",
        "    \"Shape : \" ,myDF.shape)\n"
      ]
    },
    {
      "cell_type": "code",
      "execution_count": null,
      "metadata": {
        "id": "NSyr9IiqOM_s",
        "outputId": "a8d02ffc-6d15-4472-b55a-3f4aa6c0c071"
      },
      "outputs": [
        {
          "data": {
            "text/plain": [
              "50"
            ]
          },
          "execution_count": 303,
          "metadata": {},
          "output_type": "execute_result"
        }
      ],
      "source": [
        "#27\n",
        "myDF.describe()\n",
        "myDF.loc[0 , 'Value']"
      ]
    },
    {
      "cell_type": "code",
      "execution_count": null,
      "metadata": {
        "id": "kb7DNwrQOM_s",
        "outputId": "13a90e46-28b6-43ec-d3b1-32e2671c856c"
      },
      "outputs": [
        {
          "data": {
            "text/plain": [
              "Antarctica       115\n",
              "Asia             129\n",
              "South America    135\n",
              "Europe           138\n",
              "Africa           139\n",
              "North America    141\n",
              "Australia        141\n",
              "Name: Continent, dtype: int64"
            ]
          },
          "execution_count": 304,
          "metadata": {},
          "output_type": "execute_result"
        }
      ],
      "source": [
        "#28 \n",
        "myDF['Continent'].value_counts().sort_values()\n"
      ]
    },
    {
      "cell_type": "code",
      "execution_count": null,
      "metadata": {
        "id": "5tG4Ux8dOM_t",
        "outputId": "32628f02-7aad-426c-8a55-50de995243ba"
      },
      "outputs": [
        {
          "data": {
            "text/plain": [
              "Africa           139\n",
              "Antarctica       115\n",
              "Asia             129\n",
              "Australia        141\n",
              "Europe           138\n",
              "North America    141\n",
              "South America    135\n",
              "Name: Continent, dtype: int64"
            ]
          },
          "execution_count": 305,
          "metadata": {},
          "output_type": "execute_result"
        }
      ],
      "source": [
        "myDF['Continent'].value_counts().sort_index(ascending=True)"
      ]
    },
    {
      "cell_type": "code",
      "execution_count": null,
      "metadata": {
        "id": "I9f3kYGjOM_t",
        "outputId": "8517bc29-2256-4b88-d574-cae9d68e8343"
      },
      "outputs": [
        {
          "data": {
            "text/html": [
              "<div>\n",
              "<style scoped>\n",
              "    .dataframe tbody tr th:only-of-type {\n",
              "        vertical-align: middle;\n",
              "    }\n",
              "\n",
              "    .dataframe tbody tr th {\n",
              "        vertical-align: top;\n",
              "    }\n",
              "\n",
              "    .dataframe thead th {\n",
              "        text-align: right;\n",
              "    }\n",
              "</style>\n",
              "<table border=\"1\" class=\"dataframe\">\n",
              "  <thead>\n",
              "    <tr style=\"text-align: right;\">\n",
              "      <th></th>\n",
              "      <th>ID</th>\n",
              "      <th>Range</th>\n",
              "      <th>Value</th>\n",
              "      <th>Type</th>\n",
              "      <th>Zip Code</th>\n",
              "      <th>Cost</th>\n",
              "      <th>Continent</th>\n",
              "    </tr>\n",
              "  </thead>\n",
              "  <tbody>\n",
              "    <tr>\n",
              "      <th>1</th>\n",
              "      <td>30</td>\n",
              "      <td>378</td>\n",
              "      <td>28</td>\n",
              "      <td>X</td>\n",
              "      <td>IMGMFY</td>\n",
              "      <td>90</td>\n",
              "      <td>North America</td>\n",
              "    </tr>\n",
              "    <tr>\n",
              "      <th>3</th>\n",
              "      <td>70</td>\n",
              "      <td>327</td>\n",
              "      <td>24</td>\n",
              "      <td>AAA</td>\n",
              "      <td>NLVQPY</td>\n",
              "      <td>25</td>\n",
              "      <td>Europe</td>\n",
              "    </tr>\n",
              "    <tr>\n",
              "      <th>5</th>\n",
              "      <td>90</td>\n",
              "      <td>115</td>\n",
              "      <td>30</td>\n",
              "      <td>S</td>\n",
              "      <td>KYJUHA</td>\n",
              "      <td>17</td>\n",
              "      <td>South America</td>\n",
              "    </tr>\n",
              "    <tr>\n",
              "      <th>7</th>\n",
              "      <td>110</td>\n",
              "      <td>301</td>\n",
              "      <td>29</td>\n",
              "      <td>A</td>\n",
              "      <td>OVINZU</td>\n",
              "      <td>69</td>\n",
              "      <td>South America</td>\n",
              "    </tr>\n",
              "  </tbody>\n",
              "</table>\n",
              "</div>"
            ],
            "text/plain": [
              "    ID  Range  Value Type Zip Code  Cost      Continent\n",
              "1   30    378     28    X   IMGMFY    90  North America\n",
              "3   70    327     24  AAA   NLVQPY    25         Europe\n",
              "5   90    115     30    S   KYJUHA    17  South America\n",
              "7  110    301     29    A   OVINZU    69  South America"
            ]
          },
          "execution_count": 306,
          "metadata": {},
          "output_type": "execute_result"
        }
      ],
      "source": [
        "#29\n",
        "myDF.iloc[[1,3,5,7]]"
      ]
    },
    {
      "cell_type": "code",
      "execution_count": null,
      "metadata": {
        "id": "00TmsOhbOM_t",
        "outputId": "6933f9ee-231b-4b18-8e03-7388800d297d"
      },
      "outputs": [
        {
          "data": {
            "text/html": [
              "<div>\n",
              "<style scoped>\n",
              "    .dataframe tbody tr th:only-of-type {\n",
              "        vertical-align: middle;\n",
              "    }\n",
              "\n",
              "    .dataframe tbody tr th {\n",
              "        vertical-align: top;\n",
              "    }\n",
              "\n",
              "    .dataframe thead th {\n",
              "        text-align: right;\n",
              "    }\n",
              "</style>\n",
              "<table border=\"1\" class=\"dataframe\">\n",
              "  <thead>\n",
              "    <tr style=\"text-align: right;\">\n",
              "      <th></th>\n",
              "      <th>Type</th>\n",
              "      <th>Continent</th>\n",
              "    </tr>\n",
              "  </thead>\n",
              "  <tbody>\n",
              "    <tr>\n",
              "      <th>0</th>\n",
              "      <td>AAA</td>\n",
              "      <td>Asia</td>\n",
              "    </tr>\n",
              "    <tr>\n",
              "      <th>1</th>\n",
              "      <td>X</td>\n",
              "      <td>North America</td>\n",
              "    </tr>\n",
              "    <tr>\n",
              "      <th>2</th>\n",
              "      <td>J</td>\n",
              "      <td>Africa</td>\n",
              "    </tr>\n",
              "    <tr>\n",
              "      <th>3</th>\n",
              "      <td>AAA</td>\n",
              "      <td>Europe</td>\n",
              "    </tr>\n",
              "    <tr>\n",
              "      <th>4</th>\n",
              "      <td>Z</td>\n",
              "      <td>Antarctica</td>\n",
              "    </tr>\n",
              "    <tr>\n",
              "      <th>5</th>\n",
              "      <td>S</td>\n",
              "      <td>South America</td>\n",
              "    </tr>\n",
              "    <tr>\n",
              "      <th>6</th>\n",
              "      <td>K</td>\n",
              "      <td>South America</td>\n",
              "    </tr>\n",
              "  </tbody>\n",
              "</table>\n",
              "</div>"
            ],
            "text/plain": [
              "  Type      Continent\n",
              "0  AAA           Asia\n",
              "1    X  North America\n",
              "2    J         Africa\n",
              "3  AAA         Europe\n",
              "4    Z     Antarctica\n",
              "5    S  South America\n",
              "6    K  South America"
            ]
          },
          "execution_count": 307,
          "metadata": {},
          "output_type": "execute_result"
        }
      ],
      "source": [
        "myDF[['Type' , 'Continent']].head(7)"
      ]
    },
    {
      "cell_type": "code",
      "execution_count": null,
      "metadata": {
        "id": "owKr8_h1OM_t",
        "outputId": "9b35a3d9-b63b-44fc-9ff0-d9d8e22d0956"
      },
      "outputs": [
        {
          "data": {
            "text/html": [
              "<div>\n",
              "<style scoped>\n",
              "    .dataframe tbody tr th:only-of-type {\n",
              "        vertical-align: middle;\n",
              "    }\n",
              "\n",
              "    .dataframe tbody tr th {\n",
              "        vertical-align: top;\n",
              "    }\n",
              "\n",
              "    .dataframe thead th {\n",
              "        text-align: right;\n",
              "    }\n",
              "</style>\n",
              "<table border=\"1\" class=\"dataframe\">\n",
              "  <thead>\n",
              "    <tr style=\"text-align: right;\">\n",
              "      <th></th>\n",
              "      <th>ID</th>\n",
              "      <th>Range</th>\n",
              "      <th>Value</th>\n",
              "      <th>Type</th>\n",
              "      <th>Zip Code</th>\n",
              "      <th>Cost</th>\n",
              "      <th>Continent</th>\n",
              "    </tr>\n",
              "  </thead>\n",
              "  <tbody>\n",
              "    <tr>\n",
              "      <th>687</th>\n",
              "      <td>6940</td>\n",
              "      <td>336</td>\n",
              "      <td>42</td>\n",
              "      <td>XXX</td>\n",
              "      <td>HLULLE</td>\n",
              "      <td>64</td>\n",
              "      <td>South America</td>\n",
              "    </tr>\n",
              "    <tr>\n",
              "      <th>743</th>\n",
              "      <td>7550</td>\n",
              "      <td>272</td>\n",
              "      <td>37</td>\n",
              "      <td>XXX</td>\n",
              "      <td>OAPPHA</td>\n",
              "      <td>41</td>\n",
              "      <td>Africa</td>\n",
              "    </tr>\n",
              "  </tbody>\n",
              "</table>\n",
              "</div>"
            ],
            "text/plain": [
              "       ID  Range  Value Type Zip Code  Cost      Continent\n",
              "687  6940    336     42  XXX   HLULLE    64  South America\n",
              "743  7550    272     37  XXX   OAPPHA    41         Africa"
            ]
          },
          "execution_count": 308,
          "metadata": {},
          "output_type": "execute_result"
        }
      ],
      "source": [
        "#30\n",
        "myDF.loc[myDF['Type'] == 'XXX']"
      ]
    },
    {
      "cell_type": "code",
      "execution_count": null,
      "metadata": {
        "id": "ghoIBFSFOM_t"
      },
      "outputs": [],
      "source": [
        ""
      ]
    }
  ],
  "metadata": {
    "interpreter": {
      "hash": "23784c1f7cb08f751fc8275aaeeb793366452f178ab646d6f5c554e80b94c083"
    },
    "kernelspec": {
      "display_name": "Python 3.8.8 64-bit ('base': conda)",
      "language": "python",
      "name": "python3"
    },
    "language_info": {
      "codemirror_mode": {
        "name": "ipython",
        "version": 3
      },
      "file_extension": ".py",
      "mimetype": "text/x-python",
      "name": "python",
      "nbconvert_exporter": "python",
      "pygments_lexer": "ipython3",
      "version": "3.8.8"
    },
    "orig_nbformat": 4,
    "colab": {
      "name": "Assignment04.ipynb",
      "provenance": []
    }
  },
  "nbformat": 4,
  "nbformat_minor": 0
}